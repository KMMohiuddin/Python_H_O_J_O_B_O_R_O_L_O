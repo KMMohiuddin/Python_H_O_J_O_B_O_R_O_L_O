{
 "cells": [
  {
   "cell_type": "markdown",
   "id": "31bf8faa",
   "metadata": {},
   "source": [
    "import pandas as pd\n",
    "\n",
    "df = pd.read_excel(\"1 Jan'23.xlsx\")\n",
    "df = df.iloc[2:]\n",
    "df.to_excel('new_1 Jan23.xlsx', index=False, header=False)"
   ]
  },
  {
   "cell_type": "markdown",
   "id": "50200fde",
   "metadata": {},
   "source": [
    "#output indivitulal files\n",
    "import pandas as pd\n",
    "import os\n",
    "\n",
    "Input_path = \"Jan_2023\"\n",
    "Output_path = \"New_Jan_2023\"\n",
    "\n",
    "\n",
    "for file_name in os.listdir(Input_path):\n",
    "    if file_name.endswith(\".xlsx\"):\n",
    "        df = pd.read_excel(f\"{Input_path}/{file_name})\n",
    "        df = df.iloc[2:]\n",
    "        new_file_name = \"New_\" + file_name\n",
    "        df.to_excel(f\"{Output_path}/ {new_file_name}, index=False, header=False)\n",
    "        print(f\"{new_file_name} created.\")\n",
    "        \n",
    "print(\"Loop completed.\")"
   ]
  },
  {
   "cell_type": "code",
   "execution_count": 2,
   "id": "48eff497",
   "metadata": {},
   "outputs": [
    {
     "name": "stdout",
     "output_type": "stream",
     "text": [
      "2 file marged.\n",
      "3 file marged.\n",
      "4 file marged.\n",
      "5 file marged.\n",
      "6 file marged.\n",
      "7 file marged.\n",
      "8 file marged.\n",
      "9 file marged.\n",
      "10 file marged.\n",
      "11 file marged.\n",
      "12 file marged.\n",
      "13 file marged.\n",
      "14 file marged.\n",
      "15 file marged.\n",
      "16 file marged.\n",
      "17 file marged.\n",
      "18 file marged.\n",
      "19 file marged.\n",
      "20 file marged.\n",
      "21 file marged.\n",
      "22 file marged.\n",
      "23 file marged.\n",
      "24 file marged.\n",
      "25 file marged.\n",
      "26 file marged.\n",
      "27 file marged.\n",
      "28 file marged.\n",
      "29 file marged.\n",
      "30 file marged.\n",
      "31 file marged.\n",
      "32 file marged.\n",
      "Loop completed.\n"
     ]
    }
   ],
   "source": [
    "import os\n",
    "import pandas as pd\n",
    "\n",
    "Input_path = \"Jan_2023\"\n",
    "Output_path = \"New_Jan_2023\"\n",
    "new_file_name = \"Jan_2023.csv\"\n",
    "count = 0\n",
    "\n",
    "for file_name in os.listdir(Input_path):\n",
    "    if file_name.endswith(\".xlsx\"):\n",
    "        df = pd.read_excel(f\"{Input_path}/{file_name}\")\n",
    "        df = df.iloc[2:]\n",
    "        df.to_csv(f\"{Output_path}/{new_file_name}\", mode='a', index=False, header=not os.path.exists(f\"{Output_path}/{new_file_name}\"))\n",
    "        count = count+1\n",
    "        print(f\"{count+1} file marged.\")\n",
    "        \n",
    "        \n",
    "print(\"Loop completed.\")"
   ]
  },
  {
   "cell_type": "code",
   "execution_count": null,
   "id": "8d8fc6c6",
   "metadata": {},
   "outputs": [],
   "source": [
    "import pandas as pd\n",
    "import glob\n",
    "\n",
    "for count, file_name in enumerate(glob.glob(\"Jan_2023/*.xlsx\")):\n",
    "    df = pd.read_excel(file_name, skiprows=2)\n",
    "    df.to_csv(\"dummy 2/Jan_2023.csv\", mode='a', index=False, header=not count)\n",
    "    print(f\"{count+1} file merged.\")\n",
    "    \n",
    "print(\"completed.\")"
   ]
  },
  {
   "cell_type": "code",
   "execution_count": 19,
   "id": "d3558ce5",
   "metadata": {},
   "outputs": [
    {
     "name": "stdout",
     "output_type": "stream",
     "text": [
      "1683692524.847439\n",
      "now time: 10:22:04.847439\n"
     ]
    }
   ],
   "source": [
    "import datetime\n",
    "import time\n",
    "print(f\"{time.time()}\")\n",
    "print(f\"now time: {datetime.datetime.now().time()}\")"
   ]
  },
  {
   "cell_type": "code",
   "execution_count": 67,
   "id": "e2cb2918",
   "metadata": {},
   "outputs": [
    {
     "name": "stdout",
     "output_type": "stream",
     "text": [
      "completed.\n"
     ]
    }
   ],
   "source": [
    "import pandas as pd\n",
    "\n",
    "df = pd.read_excel(\"dummy/1 Jan'23.xlsx\")\n",
    "df = df.iloc[2:-1:2]\n",
    "df.to_csv(\"dummy 2/everyEven.csv\", index=False, header=False)\n",
    "    \n",
    "print(\"completed.\")"
   ]
  },
  {
   "cell_type": "code",
   "execution_count": 66,
   "id": "52504bef",
   "metadata": {
    "collapsed": true
   },
   "outputs": [
    {
     "name": "stdout",
     "output_type": "stream",
     "text": [
      "0 False\n",
      "1 True\n",
      "2 False\n",
      "3 True\n",
      "4 False\n",
      "5 True\n",
      "6 False\n",
      "7 True\n",
      "8 False\n",
      "9 True\n",
      "10 False\n",
      "11 True\n",
      "12 False\n",
      "13 True\n",
      "14 False\n",
      "15 True\n",
      "16 False\n",
      "17 True\n",
      "18 False\n",
      "19 True\n",
      "20 False\n",
      "21 True\n",
      "22 False\n",
      "23 True\n",
      "24 False\n",
      "25 True\n",
      "completed.\n"
     ]
    }
   ],
   "source": [
    "import pandas as pd\n",
    "\n",
    "def logic(x):\n",
    "    if x % 2 != 0:\n",
    "        print(f\"{x} True\")\n",
    "        return True\n",
    "    print(f\"{x} False\")\n",
    "    return False\n",
    "\n",
    "def logic2(x):\n",
    "    if x < 10: \n",
    "        return True\n",
    "    return False\n",
    "\n",
    "def skipcase(x):\n",
    "    logic(x)\n",
    "    logic2(x)\n",
    "    \n",
    "df = pd.read_excel(\"dummy 2/Book1.xlsx\", skiprows= lambda y: logic(y) and logic2(y))\n",
    "df.to_csv(\"dummy 2/Book1_Output.csv\", index=False, header=False)\n",
    "    \n",
    "print(\"completed.\")"
   ]
  },
  {
   "cell_type": "code",
   "execution_count": 12,
   "id": "53a23f2a",
   "metadata": {},
   "outputs": [
    {
     "name": "stdout",
     "output_type": "stream",
     "text": [
      "all columns: Index(['Index0', 'Index1', 'Index2', 'Index3', 'Index4', 'Index5', 'Index6',\n",
      "       'Index7', 'Index8', 'Index9', 'Index10', 'Index11', 'Index12',\n",
      "       'Index13', 'Index14', 'Index15', 'Index16'],\n",
      "      dtype='object')\n",
      "col_to_keep: [0, 2, 3, 4, 5, 6, 8, 10, 11, 12, 13, 14, 15, 16]\n",
      "completed.\n"
     ]
    }
   ],
   "source": [
    "import pandas as pd\n",
    "\n",
    "Input_path = \"dummy 2\"\n",
    "file_name = \"Book1.xlsx\"\n",
    "Output_path = \"dummy 2\"\n",
    "new_file_name = \"Book1_Output.csv\"\n",
    "\n",
    "row_start = 2\n",
    "row_stop = -1\n",
    "row_step = 2\n",
    "\n",
    "col_index_to_consider = [1,7,9] # jeijei column amar dorkar nai # index suru hoy 0 theke :3 # column 1 = index 0\n",
    "col_name_to_consider = ['Index6', 'Index7', 'Index8', 'Index9', 'Index10', 'Index11']\n",
    "\n",
    "df = pd.read_excel(f\"{Input_path}/{file_name}\")\n",
    "\n",
    "col_index_to_keep = [col for col in range(len(df.columns)) if col not in col_index_to_consider]\n",
    "print(f\"all columns: {df.columns}\")\n",
    "print(f\"col_to_keep: {col_index_to_keep}\")\n",
    "df = df.iloc[row_start:row_stop:row_step,col_index_to_keep]\n",
    "df.to_csv(f\"{Output_path}/{new_file_name}\", mode='w', index= False)\n",
    "\n",
    "\n",
    "print(\"completed.\")"
   ]
  },
  {
   "cell_type": "code",
   "execution_count": null,
   "id": "a6c6b822",
   "metadata": {},
   "outputs": [],
   "source": []
  }
 ],
 "metadata": {
  "kernelspec": {
   "display_name": "Python 3 (ipykernel)",
   "language": "python",
   "name": "python3"
  },
  "language_info": {
   "codemirror_mode": {
    "name": "ipython",
    "version": 3
   },
   "file_extension": ".py",
   "mimetype": "text/x-python",
   "name": "python",
   "nbconvert_exporter": "python",
   "pygments_lexer": "ipython3",
   "version": "3.10.9"
  }
 },
 "nbformat": 4,
 "nbformat_minor": 5
}
